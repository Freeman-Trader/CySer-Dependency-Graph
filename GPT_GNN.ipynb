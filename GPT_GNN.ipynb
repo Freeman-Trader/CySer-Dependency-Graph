{
  "nbformat": 4,
  "nbformat_minor": 0,
  "metadata": {
    "colab": {
      "provenance": [],
      "gpuType": "T4"
    },
    "kernelspec": {
      "name": "python3",
      "display_name": "Python 3"
    },
    "language_info": {
      "name": "python"
    },
    "accelerator": "GPU"
  },
  "cells": [
    {
      "cell_type": "code",
      "source": [
        "!pip3 install torch torchvision torchaudio --index-url https://download.pytorch.org/whl/cu121\n",
        "!pip install torch_geometric\n",
        "!pip install -U scikit-learn"
      ],
      "metadata": {
        "id": "tksARaFm-GER"
      },
      "execution_count": null,
      "outputs": []
    },
    {
      "cell_type": "code",
      "source": [
        "import os\n",
        "import torch\n",
        "import torch.nn as nn\n",
        "import torch.optim as optim\n",
        "import torch.nn.functional as F\n",
        "from torch_geometric.data import Data, DataLoader\n",
        "from torch_geometric.nn import GCNConv\n",
        "from sklearn.model_selection import train_test_split\n",
        "from google.colab import drive\n",
        "drive.mount('/content/drive')"
      ],
      "metadata": {
        "colab": {
          "base_uri": "https://localhost:8080/"
        },
        "id": "K95MQJvK5it1",
        "outputId": "bfc94131-7b22-4b7b-a530-961ebb06a8f7"
      },
      "execution_count": null,
      "outputs": [
        {
          "output_type": "stream",
          "name": "stdout",
          "text": [
            "Mounted at /content/drive\n"
          ]
        }
      ]
    },
    {
      "cell_type": "code",
      "execution_count": null,
      "metadata": {
        "colab": {
          "base_uri": "https://localhost:8080/",
          "height": 248
        },
        "id": "BXB3u5_95Y7T",
        "outputId": "5a1579b1-8777-46b0-bb33-56684f8b4797"
      },
      "outputs": [
        {
          "output_type": "stream",
          "name": "stdout",
          "text": [
            "[[0, 1, 0, 2, 1, 3, 2, 1, 0, 0, 0, 0, 0, 0, 0, 0, 0, 0, 0, 0, 0, 0, 0, 0, 0, 0, 0, 0, 0, 0, 0, 0, 0, 0], [0, 1, 1, 2, 1, 3, 3, 4, 0, 5, 0, 6, 1, 7, 2, 8, 3, 9, 4, 10, 5, 11, 9, 4, 10, 4, 9, 3, 11, 5, 0, 0, 0, 0], [0, 1, 1, 2, 1, 3, 0, 4, 4, 5, 4, 6, 4, 7, 0, 8, 1, 9, 2, 10, 3, 11, 4, 12, 5, 13, 6, 14, 7, 15, 14, 6, 15, 7]]\n"
          ]
        },
        {
          "output_type": "error",
          "ename": "IndexError",
          "evalue": "tuple index out of range",
          "traceback": [
            "\u001b[0;31m---------------------------------------------------------------------------\u001b[0m",
            "\u001b[0;31mIndexError\u001b[0m                                Traceback (most recent call last)",
            "\u001b[0;32m<ipython-input-10-082354e0dc83>\u001b[0m in \u001b[0;36m<cell line: 75>\u001b[0;34m()\u001b[0m\n\u001b[1;32m     73\u001b[0m \u001b[0;34m\u001b[0m\u001b[0m\n\u001b[1;32m     74\u001b[0m \u001b[0;31m# Initialize your model, loss function, and optimizer\u001b[0m\u001b[0;34m\u001b[0m\u001b[0;34m\u001b[0m\u001b[0m\n\u001b[0;32m---> 75\u001b[0;31m \u001b[0minput_dim\u001b[0m \u001b[0;34m=\u001b[0m \u001b[0mx\u001b[0m\u001b[0;34m.\u001b[0m\u001b[0mshape\u001b[0m\u001b[0;34m[\u001b[0m\u001b[0;36m1\u001b[0m\u001b[0;34m]\u001b[0m  \u001b[0;31m# Get the number of features from the input data X\u001b[0m\u001b[0;34m\u001b[0m\u001b[0;34m\u001b[0m\u001b[0m\n\u001b[0m\u001b[1;32m     76\u001b[0m \u001b[0mhidden_dim\u001b[0m \u001b[0;34m=\u001b[0m \u001b[0;36m64\u001b[0m\u001b[0;34m\u001b[0m\u001b[0;34m\u001b[0m\u001b[0m\n\u001b[1;32m     77\u001b[0m \u001b[0moutput_dim\u001b[0m \u001b[0;34m=\u001b[0m \u001b[0mlen\u001b[0m\u001b[0;34m(\u001b[0m\u001b[0mset\u001b[0m\u001b[0;34m(\u001b[0m\u001b[0mlabels\u001b[0m\u001b[0;34m)\u001b[0m\u001b[0;34m)\u001b[0m  \u001b[0;31m# Number of unique labels\u001b[0m\u001b[0;34m\u001b[0m\u001b[0;34m\u001b[0m\u001b[0m\n",
            "\u001b[0;31mIndexError\u001b[0m: tuple index out of range"
          ]
        }
      ],
      "source": [
        "# Define your Graph Neural Network model\n",
        "class GCNClassifier(nn.Module):\n",
        "    def __init__(self, input_dim, hidden_dim, output_dim):\n",
        "        super(GCNClassifier, self).__init__()\n",
        "        self.conv1 = GCNConv(input_dim, hidden_dim)\n",
        "        self.conv2 = GCNConv(hidden_dim, output_dim)\n",
        "\n",
        "    def forward(self, data):\n",
        "        x, edge_index = data.x, data.edge_index\n",
        "        x = F.relu(self.conv1(x, edge_index))\n",
        "        x = F.dropout(x, training=self.training)\n",
        "        x = self.conv2(x, edge_index)\n",
        "        return F.log_softmax(x, dim=1)\n",
        "\n",
        "# Assuming you have your edge lists and labels\n",
        "# Load your data into PyTorch Geometric format\n",
        "# Construct your graphs and labels\n",
        "# Example:\n",
        "# edge_index = torch.tensor([[0, 1, 1, 2], [1, 0, 2, 1]], dtype=torch.long)\n",
        "# x = torch.tensor([[0, 1], [1, 0], [0, 1]], dtype=torch.float)  # Node features\n",
        "\n",
        "# Define your dataset\n",
        "class GraphDataset(torch.utils.data.Dataset):\n",
        "    def __init__(self, graphs, labels):\n",
        "        self.graphs = graphs\n",
        "        self.labels = labels\n",
        "\n",
        "    def __len__(self):\n",
        "        return len(self.graphs)\n",
        "\n",
        "    def __getitem__(self, idx):\n",
        "        return self.graphs[idx], self.labels[idx]\n",
        "\n",
        "graphs = []\n",
        "\n",
        "HOME = os.getcwd()\n",
        "DATA_PATH = os.path.join(HOME, \"drive\", \"MyDrive\",\"GNN_data\")\n",
        "for current in os.listdir(DATA_PATH):\n",
        "  file_path = os.path.join(DATA_PATH,current)\n",
        "  with open(file_path, 'r') as f:\n",
        "    content = f.read()\n",
        "\n",
        "    tmp = content.split(',')\n",
        "    tmp = list(map(int, tmp))\n",
        "    graphs.append(tmp)\n",
        "\n",
        "labels = [1,1,1] # Currently doing maunal labelling\n",
        "\n",
        "max_len = max(map(len, graphs))\n",
        "\n",
        "# Append zeros to each inner list\n",
        "for inner_list in graphs:\n",
        "    while len(inner_list) < max_len:\n",
        "        inner_list.append(0)\n",
        "\n",
        "print(graphs)\n",
        "\n",
        "edge_index = torch.tensor(graphs, dtype=torch.long)\n",
        "x = torch.tensor(labels, dtype=torch.float)  # Node features\n",
        "\n",
        "# Split your data into train/validation/test sets\n",
        "train_graphs, test_graphs, train_labels, test_labels = train_test_split(graphs, labels, test_size=0.2)\n",
        "train_graphs, val_graphs, train_labels, val_labels = train_test_split(train_graphs, train_labels, test_size=0.2)\n",
        "\n",
        "# Create DataLoader for each set\n",
        "train_dataset = GraphDataset(train_graphs, train_labels)\n",
        "train_loader = DataLoader(train_dataset, batch_size=64, shuffle=True)\n",
        "val_dataset = GraphDataset(val_graphs, val_labels)\n",
        "val_loader = DataLoader(val_dataset, batch_size=64)\n",
        "test_dataset = GraphDataset(test_graphs, test_labels)\n",
        "test_loader = DataLoader(test_dataset, batch_size=64)\n",
        "\n",
        "\n",
        "# Initialize your model, loss function, and optimizer\n",
        "if len(x.shape) == 1:\n",
        "    input_dim = 1  # Set input dimension to 1 for 1D input\n",
        "else:\n",
        "    input_dim = x.shape[1]\n",
        "# input_dim = x.shape[1]  # Get the number of features from the input data X\n",
        "hidden_dim = 64\n",
        "output_dim = len(set(labels))  # Number of unique labels\n",
        "model = GCNClassifier(input_dim, hidden_dim, output_dim)\n",
        "criterion = nn.NLLLoss()\n",
        "optimizer = optim.Adam(model.parameters(), lr=0.01)\n",
        "\n",
        "# Training loop\n",
        "def train(model, loader, optimizer, criterion):\n",
        "    model.train()\n",
        "    for data, labels in loader:\n",
        "        optimizer.zero_grad()\n",
        "        out = model(data)\n",
        "        loss = criterion(out, labels)\n",
        "        loss.backward()\n",
        "        optimizer.step()\n",
        "\n",
        "# Evaluation loop\n",
        "def evaluate(model, loader, criterion):\n",
        "    model.eval()\n",
        "    correct = 0\n",
        "    total = 0\n",
        "    with torch.no_grad():\n",
        "        for data, labels in loader:\n",
        "            out = model(data)\n",
        "            _, predicted = torch.max(out, 1)\n",
        "            total += labels.size(0)\n",
        "            correct += (predicted == labels).sum().item()\n",
        "    return correct / total\n",
        "\n",
        "# Train and validate the model\n",
        "num_epochs = 10\n",
        "for epoch in range(num_epochs):\n",
        "    train(model, train_loader, optimizer, criterion)\n",
        "    val_accuracy = evaluate(model, val_loader, criterion)\n",
        "    print(f\"Epoch {epoch+1}, Validation Accuracy: {val_accuracy}\")\n",
        "\n",
        "# Test the final model\n",
        "test_accuracy = evaluate(model, test_loader, criterion)\n",
        "print(f\"Test Accuracy: {test_accuracy}\")\n"
      ]
    }
  ]
}